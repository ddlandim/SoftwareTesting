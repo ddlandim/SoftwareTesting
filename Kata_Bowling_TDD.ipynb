{
  "nbformat": 4,
  "nbformat_minor": 0,
  "metadata": {
    "colab": {
      "name": "Kata_Bowling_TDD.ipynb",
      "provenance": [],
      "toc_visible": true,
      "authorship_tag": "ABX9TyOjYQOYUBa0Q+oqugKe+3uV",
      "include_colab_link": true
    },
    "kernelspec": {
      "name": "python3",
      "display_name": "Python 3"
    }
  },
  "cells": [
    {
      "cell_type": "markdown",
      "metadata": {
        "id": "view-in-github",
        "colab_type": "text"
      },
      "source": [
        "<a href=\"https://colab.research.google.com/github/ddlandim/SoftwareTesting/blob/master/Kata_Bowling_TDD.ipynb\" target=\"_parent\"><img src=\"https://colab.research.google.com/assets/colab-badge.svg\" alt=\"Open In Colab\"/></a>"
      ]
    },
    {
      "cell_type": "markdown",
      "metadata": {
        "id": "0Yh1yGtZFZta"
      },
      "source": [
        "# ALUNO : DOUGLAS DINIZ LANDIM, DDLANDIM@UNIFESP.BR"
      ]
    },
    {
      "cell_type": "markdown",
      "metadata": {
        "id": "NbGXksDe4m5B"
      },
      "source": [
        "\n",
        "# Atividade 5 - Kata de Boliche com TDD na sua linguagem preferida\n",
        "- Otavio Augusto Lazzarini Lemos 24 de setembro.\n",
        "- 100 pontos\n",
        "- Data de entrega: 1 de out\n",
        "- assistir aula no youtube : https://www.youtube.com/watch?v=F63DSb1EUOE\n",
        "\n"
      ]
    },
    {
      "cell_type": "markdown",
      "metadata": {
        "id": "nRv3m9A-6stT"
      },
      "source": [
        "# game.ts\n",
        "\n",
        "\n",
        "\n",
        "```\n",
        "export class Game {\n",
        "  private rolls: number[] = Array(21).fill(0)\n",
        "  private currentRoll: number = 0\n",
        "\n",
        "  score (): number {\n",
        "    let score = 0\n",
        "    let frameIndex = 0\n",
        "    for (let frame = 0; frame < 10; frame++) {\n",
        "      if (this.isStrike(frameIndex)) {\n",
        "        score += 10 + this.strikeBonus(frameIndex)\n",
        "        frameIndex++\n",
        "      } else if (this.isSpare(frameIndex)) {\n",
        "        score += 10 + this.spareBonus(frameIndex)\n",
        "        frameIndex += 2\n",
        "      } else {\n",
        "        score += this.sumOfBallsInFrame(frameIndex)\n",
        "        frameIndex += 2\n",
        "      }\n",
        "    }\n",
        "    return score\n",
        "  }\n",
        "\n",
        "  private sumOfBallsInFrame (frameIndex: number): number {\n",
        "    return this.rolls[frameIndex] + this.rolls[frameIndex + 1]\n",
        "  }\n",
        "\n",
        "  private strikeBonus (frameIndex: number): number {\n",
        "    return this.rolls[frameIndex + 1] +\n",
        "           this.rolls[frameIndex + 2]\n",
        "  }\n",
        "\n",
        "  private spareBonus (frameIndex: number): number {\n",
        "    return this.rolls[frameIndex + 2]\n",
        "  }\n",
        "\n",
        "  private isStrike (frameIndex: number): boolean {\n",
        "    return this.rolls[frameIndex] === 10\n",
        "  }\n",
        "\n",
        "  private isSpare (frameIndex: number): boolean {\n",
        "    return this.rolls[frameIndex] + this.rolls[frameIndex + 1] === 10\n",
        "  }\n",
        "\n",
        "  roll (pins: number): void {\n",
        "    this.rolls[this.currentRoll++] = pins\n",
        "  }\n",
        "}\n",
        "```\n",
        "\n"
      ]
    },
    {
      "cell_type": "markdown",
      "metadata": {
        "id": "KEGMoLPa6AD9"
      },
      "source": [
        "# game.spec.ts\n",
        "\n",
        "\n",
        "\n",
        "```\n",
        "import { Game } from './game'\n",
        "\n",
        "let g: Game = new Game()\n",
        "\n",
        "beforeEach(() => {\n",
        "  g = new Game()\n",
        "})\n",
        "\n",
        "describe('Bowling game', () => {\n",
        "  test('should score 0 for gutter game', () => {\n",
        "    rollMany(20, 0)\n",
        "    expect(g.score()).toBe(0)\n",
        "  })\n",
        "\n",
        "  test('should score 20 for all ones game', () => {\n",
        "    rollMany(20, 1)\n",
        "    expect(g.score()).toBe(20)\n",
        "  })\n",
        "\n",
        "  test('should score 16 for a spare followed by a 3 ball', () => {\n",
        "    rollSpare()\n",
        "    g.roll(3)\n",
        "    expect(g.score()).toBe(16)\n",
        "  })\n",
        "\n",
        "  test('should score 24 for a strike followed by a 3 and a 4 ball', () => {\n",
        "    rollStrike()\n",
        "    g.roll(3)\n",
        "    g.roll(4)\n",
        "    rollMany(16, 0)\n",
        "    expect(g.score()).toBe(24)\n",
        "  })\n",
        "\n",
        "  test('should score 300 for perfect game', () => {\n",
        "    rollMany(12, 10)\n",
        "    expect(g.score()).toBe(300)\n",
        "  })\n",
        "\n",
        "  function rollStrike (): void {\n",
        "    g.roll(10)\n",
        "  }\n",
        "\n",
        "  function rollSpare (): void {\n",
        "    g.roll(5)\n",
        "    g.roll(5)\n",
        "  }\n",
        "\n",
        "  function rollMany (n: number, pins: number): void {\n",
        "    for (let i = 0; i < n; i++) {\n",
        "      g.roll(pins)\n",
        "    }\n",
        "  }\n",
        "})\n",
        "```\n",
        "\n"
      ]
    },
    {
      "cell_type": "markdown",
      "metadata": {
        "id": "l7UolNRTI6kS"
      },
      "source": [
        "# DEFINIÇÃO DA FUNÇÃO EM PYTHON:"
      ]
    },
    {
      "cell_type": "code",
      "metadata": {
        "id": "S9eZyW6u4vt-"
      },
      "source": [
        "import numpy as np\n",
        "# as np => is the law\n",
        "import unittest\n",
        "\n",
        "class Game:\n",
        "  rolls = np.zeros(21)\n",
        "  currentRoll = 0\n",
        "\n",
        "  def score(self):\n",
        "    score = 0\n",
        "    frameIndex = 0\n",
        "    for frame in range (10):\n",
        "      if self.isStrike(frameIndex):\n",
        "        score += 10 + self.rolls[frameIndex+1] + self.rolls[frameIndex + 2]\n",
        "        frameIndex += 1\n",
        "      elif self.isSpare(frameIndex):\n",
        "        score += 10 + self.rolls[frameIndex+2]\n",
        "        frameIndex += + 2\n",
        "      else:\n",
        "        score += self.rolls[frameIndex] + self.rolls[frameIndex+1]\n",
        "        frameIndex += + 2\n",
        "    return score\n",
        "\n",
        "  def roll(self,pins):\n",
        "    self.rolls[self.currentRoll] = pins\n",
        "    self.currentRoll += 1\n",
        "\n",
        "  def isSpare(self,frameIndex):\n",
        "    return (self.rolls[frameIndex] + self.rolls[frameIndex+1]) == 10\n",
        "\n",
        "  def isStrike(self,frameIndex):\n",
        "    return self.rolls[frameIndex] == 10\n",
        "\n",
        "class test_Game(unittest.TestCase):\n",
        "  \n",
        "  def test_score_0(self):\n",
        "      g0 = Game()\n",
        "      g0.roll(0)\n",
        "      assert g0.score()\n",
        "\n",
        "  def test_score_1(self):\n",
        "      g2 = Game()\n",
        "      for i in range(20):\n",
        "        g2.roll(1)\n",
        "      assert g2.score() == 20\n",
        "\n",
        "  def test_score_spare(self):\n",
        "      gs = Game()\n",
        "      gs.roll(5) \n",
        "      gs.roll(5)\n",
        "      assert gs.score() != 10\n",
        "\n",
        "  def test_perfect_score(self):\n",
        "      g4 = Game()\n",
        "      for i in range(12):\n",
        "        g4.roll(10)\n",
        "      assert g4.score() == 300"
      ],
      "execution_count": 11,
      "outputs": []
    },
    {
      "cell_type": "code",
      "metadata": {
        "id": "eEn9jtiiCv_2",
        "outputId": "c55b7da5-4293-4c9e-fbf1-cf59238316b6",
        "colab": {
          "base_uri": "https://localhost:8080/",
          "height": 194
        }
      },
      "source": [
        "unittest.main(argv=[''], verbosity=2, exit=False)"
      ],
      "execution_count": 12,
      "outputs": [
        {
          "output_type": "stream",
          "text": [
            "test_perfect_score (__main__.test_Game) ... ok\n",
            "test_score_0 (__main__.test_Game) ... ok\n",
            "test_score_1 (__main__.test_Game) ... ok\n",
            "test_score_spare (__main__.test_Game) ... ok\n",
            "\n",
            "----------------------------------------------------------------------\n",
            "Ran 4 tests in 0.005s\n",
            "\n",
            "OK\n"
          ],
          "name": "stderr"
        },
        {
          "output_type": "execute_result",
          "data": {
            "text/plain": [
              "<unittest.main.TestProgram at 0x7fb969d4ffd0>"
            ]
          },
          "metadata": {
            "tags": []
          },
          "execution_count": 12
        }
      ]
    }
  ]
}