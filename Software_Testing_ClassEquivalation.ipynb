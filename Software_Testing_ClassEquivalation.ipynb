{
  "nbformat": 4,
  "nbformat_minor": 0,
  "metadata": {
    "colab": {
      "name": "Software_Testing_ClassEquivalation.ipynb",
      "provenance": [],
      "toc_visible": true,
      "authorship_tag": "ABX9TyOrOfkJnlLyvoFoFKV06ePT",
      "include_colab_link": true
    },
    "kernelspec": {
      "name": "python3",
      "display_name": "Python 3"
    }
  },
  "cells": [
    {
      "cell_type": "markdown",
      "metadata": {
        "id": "view-in-github",
        "colab_type": "text"
      },
      "source": [
        "<a href=\"https://colab.research.google.com/github/ddlandim/SoftwareTesting/blob/master/Software_Testing_ClassEquivalation.ipynb\" target=\"_parent\"><img src=\"https://colab.research.google.com/assets/colab-badge.svg\" alt=\"Open In Colab\"/></a>"
      ]
    },
    {
      "cell_type": "markdown",
      "metadata": {
        "id": "0Yh1yGtZFZta",
        "colab_type": "text"
      },
      "source": [
        "# ALUNO : DOUGLAS DINIZ LANDIM, DDLANDIM@UNIFESP.BR"
      ]
    },
    {
      "cell_type": "markdown",
      "metadata": {
        "id": "NbGXksDe4m5B",
        "colab_type": "text"
      },
      "source": [
        "# Atividade 3 - Particionamento por classes de equivalência\n",
        "- Otavio Augusto Lazzarini Lemos 23 de ago.\n",
        "- 100 pontos\n",
        "- Data de entrega: 3 de set. 15:30\n",
        "- Defina classes de equivalência e um conjunto de casos de teste adequado para o critério particionamento por classes de equivalência para o programa com a seguinte descrição:\n",
        "\n",
        "- O programa deve determinar se um identificador é válido ou não em Silly Pascal (uma variante do Pascal). Um identificador válido deve: \n",
        "```\n",
        "<<começar com uma letra e conter apenas letras ou dígitos>>. \n",
        "```\n",
        "Além disso, \n",
        "```\n",
        "<<deve ter no mínimo um caractere e no máximo seis caracteres de comprimento>>.\n",
        "```\n",
        "Implemente a função \n",
        "```\n",
        "isValid(string): boolean\n",
        "```\n",
        "- Que recebe uma string e retorna verdadeiro se a string pode ser um identificador de Silly Pascal e falso caso contrário. \n",
        "- Crie os testes para essa função."
      ]
    },
    {
      "cell_type": "markdown",
      "metadata": {
        "id": "l7UolNRTI6kS",
        "colab_type": "text"
      },
      "source": [
        "# DEFINIÇÃO DA FUNÇÃO:"
      ]
    },
    {
      "cell_type": "code",
      "metadata": {
        "id": "s3gT2I392EpR",
        "colab_type": "code",
        "colab": {}
      },
      "source": [
        "def isValid (silly_pascal):\n",
        "\n",
        "  n = len(silly_pascal)\n",
        "  if (n < 1 or 6 < n):\n",
        "    return False\n",
        "\n",
        "  if not silly_pascal[0].isalpha():\n",
        "    return False\n",
        "\n",
        "  if not silly_pascal.isalnum():\n",
        "    return False\n",
        "\n",
        "  return True"
      ],
      "execution_count": 28,
      "outputs": []
    },
    {
      "cell_type": "markdown",
      "metadata": {
        "id": "ilKLwgc178YX",
        "colab_type": "text"
      },
      "source": [
        "# CLASSE DE TESTES UNITÁRIOS:"
      ]
    },
    {
      "cell_type": "code",
      "metadata": {
        "id": "y3A-964M7_d1",
        "colab_type": "code",
        "colab": {}
      },
      "source": [
        "import unittest\n",
        "\n",
        "class MyTestCase(unittest.TestCase):\n",
        "\n",
        "  # 1st Class : Size\n",
        "  def test_size(self):\n",
        "      # Valid Cases\n",
        "      ## size == 6\n",
        "      assert isValid('a12345')\n",
        "      # size = 1\n",
        "      assert isValid('a')\n",
        "      # Invalid Cases\n",
        "      ## size <1\n",
        "      assert not isValid('')\n",
        "      # size > 6\n",
        "      assert not isValid('a123456')\n",
        "\n",
        "  # 2nd Class : 1st char is alpha\n",
        "  def test_1stChar(self):\n",
        "      # Valid Cases\n",
        "      assert isValid('a')\n",
        "      # Invalid Cases\n",
        "      assert not isValid('1')\n",
        "\n",
        "  # 3rd Class : Elements\n",
        "  def test_validChar(self):\n",
        "      # Valid Cases\n",
        "      assert isValid('aB123z')\n",
        "      # Invalid Cases\n",
        "      assert not isValid('ab!12')"
      ],
      "execution_count": 26,
      "outputs": []
    },
    {
      "cell_type": "markdown",
      "metadata": {
        "id": "lveELS6UJDDY",
        "colab_type": "text"
      },
      "source": [
        "# CHAMADA DOS TESTES:"
      ]
    },
    {
      "cell_type": "code",
      "metadata": {
        "id": "eEn9jtiiCv_2",
        "colab_type": "code",
        "colab": {
          "base_uri": "https://localhost:8080/",
          "height": 176
        },
        "outputId": "4db22219-4b8f-43b1-f74d-62fea02dcc2c"
      },
      "source": [
        "unittest.main(argv=[''], verbosity=2, exit=False)"
      ],
      "execution_count": 29,
      "outputs": [
        {
          "output_type": "stream",
          "text": [
            "test_1stChar (__main__.MyTestCase) ... ok\n",
            "test_size (__main__.MyTestCase) ... ok\n",
            "test_validChar (__main__.MyTestCase) ... ok\n",
            "\n",
            "----------------------------------------------------------------------\n",
            "Ran 3 tests in 0.007s\n",
            "\n",
            "OK\n"
          ],
          "name": "stderr"
        },
        {
          "output_type": "execute_result",
          "data": {
            "text/plain": [
              "<unittest.main.TestProgram at 0x7ff38a7622b0>"
            ]
          },
          "metadata": {
            "tags": []
          },
          "execution_count": 29
        }
      ]
    },
    {
      "cell_type": "markdown",
      "metadata": {
        "id": "ibHq0erWFA5h",
        "colab_type": "text"
      },
      "source": [
        "# RESULTADO: \n",
        "\n",
        "## TODAS AS CLASSES DE TESTES FORAM VALIDADAS!\n",
        "### 1A CLASSE : TAMANHO >1 E <6, \n",
        "### 2A CLASSE : 1o CARACTERE É UMA LETRA, \n",
        "### 3A CLASSE : COMPOSIÇÃO DEVE SER ALFANUMÉRICA\n",
        "\n",
        "#### CONSOLE OUTPUT:\n",
        "\n",
        "\n",
        "```\n",
        "test_1stChar (__main__.MyTestCase) ... ok\n",
        "test_size (__main__.MyTestCase) ... ok\n",
        "test_validChar (__main__.MyTestCase) ... ok\n",
        "\n",
        "----------------------------------------------------------------------\n",
        "Ran 3 tests in 0.007s\n",
        "\n",
        "OK\n",
        "<unittest.main.TestProgram at 0x7ff38a7622b0>\n",
        "```"
      ]
    }
  ]
}