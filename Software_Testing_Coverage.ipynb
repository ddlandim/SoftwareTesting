{
  "nbformat": 4,
  "nbformat_minor": 0,
  "metadata": {
    "colab": {
      "name": "Software_Testing_Coverage.ipynb",
      "provenance": [],
      "toc_visible": true,
      "authorship_tag": "ABX9TyOVwubVZ8RsRcT4xDg0Td5F",
      "include_colab_link": true
    },
    "kernelspec": {
      "name": "python3",
      "display_name": "Python 3"
    }
  },
  "cells": [
    {
      "cell_type": "markdown",
      "metadata": {
        "id": "view-in-github",
        "colab_type": "text"
      },
      "source": [
        "<a href=\"https://colab.research.google.com/github/ddlandim/SoftwareTesting/blob/master/Software_Testing_Coverage.ipynb\" target=\"_parent\"><img src=\"https://colab.research.google.com/assets/colab-badge.svg\" alt=\"Open In Colab\"/></a>"
      ]
    },
    {
      "cell_type": "markdown",
      "metadata": {
        "id": "0Yh1yGtZFZta",
        "colab_type": "text"
      },
      "source": [
        "# ALUNO : DOUGLAS DINIZ LANDIM, DDLANDIM@UNIFESP.BR"
      ]
    },
    {
      "cell_type": "markdown",
      "metadata": {
        "id": "NbGXksDe4m5B",
        "colab_type": "text"
      },
      "source": [
        "# Atividade 4 - Particionamento por classes de equivalência\n",
        "- Otavio Augusto Lazzarini Lemos 10 de setembro.\n",
        "- 100 pontos\n",
        "- Data de entrega: 18 de set\n",
        "- Defina classes de equivalência e um conjunto de casos de teste adequado para Construa casos de teste que cubram todas as sentenças e branches do código da simples função de cálculo de IR do seguinte arquivo: https://github.com/otaviolemos/Imposto-de-renda/blob/master/src/imposto-renda.ts\n",
        "\n",
        "\n",
        "\n",
        "```\n",
        "// LINGUAGEM EM TYPESCRIPT .ts\n",
        "// O IR (Imposto de Renda) é calculado da seguinte forma:\n",
        "//   se salário-base > 2000, IR = (150) + (salário-base - 2000) * 20%\n",
        "//   se 1000 < salário-base <= 2000, IR = (salário-base - 1000) * 15%\n",
        "//   se salário-base <= 1000, IR = 0\n",
        "\n",
        "export function calculaIR (salario: number): number {\n",
        "  let ret: number = 0.0\n",
        "  if (salario > 1000.0 && salario <= 2000.0) {\n",
        "    ret += (salario - 1000.0) * (0.15)\n",
        "  }\n",
        "  if (salario > 2000.0) {\n",
        "    ret += 150 + (salario - 2000.0) * (0.20)\n",
        "  }\n",
        "  if (salario > 3000.0) {\n",
        "    ret += (salario - 3000.0) * (0.05)\n",
        "  }\n",
        "  return ret\n",
        "}\n",
        "\n",
        "```\n",
        "\n"
      ]
    },
    {
      "cell_type": "markdown",
      "metadata": {
        "id": "l7UolNRTI6kS",
        "colab_type": "text"
      },
      "source": [
        "# DEFINIÇÃO DA FUNÇÃO EM PYTHON:"
      ]
    },
    {
      "cell_type": "code",
      "metadata": {
        "id": "s3gT2I392EpR",
        "colab_type": "code",
        "colab": {}
      },
      "source": [
        "def calculaIR (salario):\n",
        "  ret = 0.0000 \n",
        "  if salario > 1000.0 and salario <= 2000.0:\n",
        "    ret += (salario - 1000.0) * (0.15)\n",
        "  \n",
        "  if salario > 2000.0:\n",
        "    ret += 150 + (salario - 2000.0) * (0.20)\n",
        "  \n",
        "  if salario > 3000.0:\n",
        "    ret += (salario - 3000.0) * (0.05)\n",
        "\n",
        "  return ret"
      ],
      "execution_count": 14,
      "outputs": []
    },
    {
      "cell_type": "markdown",
      "metadata": {
        "id": "ilKLwgc178YX",
        "colab_type": "text"
      },
      "source": [
        "# CLASSE DE TESTES UNITÁRIOS:"
      ]
    },
    {
      "cell_type": "code",
      "metadata": {
        "id": "y3A-964M7_d1",
        "colab_type": "code",
        "colab": {}
      },
      "source": [
        "import unittest\n",
        "\n",
        "class test_calculaIR(unittest.TestCase):\n",
        "\n",
        "  # 1st Class : Dont Calc IR if salario < 1000\n",
        "  def test_not_calculaIR(self):\n",
        "      # Valid Cases\n",
        "      assert calculaIR(1000) == 0\n",
        "      assert calculaIR(999) == 0\n",
        "      assert calculaIR(0) == 0\n",
        "      # Invalid Cases\n",
        "      assert not (calculaIR(1001) == 0)\n",
        "  \n",
        "  # 2nd Class : Calc IR if salario > 1000.0 and salario <= 2000.0:\n",
        "  def test_1000d01_2000_calculaIR(self):\n",
        "      # Valid Cases\n",
        "      assert round(calculaIR(1000.01),4) == 0.0015\n",
        "      assert round(calculaIR(1500),4) == 75\n",
        "      assert round(calculaIR(2000),4) == 150\n",
        "      # Invalid Cases\n",
        "      assert not (round(calculaIR(999.99),4) == -0.0015)\n",
        "      assert not (round(calculaIR(2000.01),4) == 150.0015)\n",
        "  \n",
        "  # 3rd Class : Calc IR if salario > 2000.0 and salario < 3000\n",
        "  def test_2000d01_3000_calculaIR(self):\n",
        "      # Valid Cases\n",
        "      assert round(calculaIR(2000.01),4) == 150.002\n",
        "      assert round(calculaIR(2500),4) == 250\n",
        "      assert round(calculaIR(3000),4) == 350\n",
        "      # Invalid Cases\n",
        "      assert not (round(calculaIR(2000),4) == 30)\n",
        "      assert not (round(calculaIR(3000.01),4) == 230.0020)\n",
        "  \n",
        "  # 4th Class : Calc IR if salario > 3000\n",
        "  def test_3000d01_calculaIR(self):\n",
        "      # Valid Cases\n",
        "      assert round(calculaIR(3000.01),4) == 350.0025\n",
        "      assert round(calculaIR(4000),4) == 600\n",
        "      assert round(calculaIR(999999.99),4) == 249599.9975\n",
        "      # Invalid Cases\n",
        "      assert not (round(calculaIR(3000),4) == 230)"
      ],
      "execution_count": 32,
      "outputs": []
    },
    {
      "cell_type": "markdown",
      "metadata": {
        "id": "lveELS6UJDDY",
        "colab_type": "text"
      },
      "source": [
        "# CHAMADA DOS TESTES:"
      ]
    },
    {
      "cell_type": "code",
      "metadata": {
        "id": "eEn9jtiiCv_2",
        "colab_type": "code",
        "colab": {
          "base_uri": "https://localhost:8080/",
          "height": 194
        },
        "outputId": "3f5adf39-49e5-4f59-8ee4-bbf542156b06"
      },
      "source": [
        "unittest.main(argv=[''], verbosity=2, exit=False)"
      ],
      "execution_count": 33,
      "outputs": [
        {
          "output_type": "stream",
          "text": [
            "test_1000d01_2000_calculaIR (__main__.test_calculaIR) ... ok\n",
            "test_2000d01_3000_calculaIR (__main__.test_calculaIR) ... ok\n",
            "test_3000d01_calculaIR (__main__.test_calculaIR) ... ok\n",
            "test_not_calculaIR (__main__.test_calculaIR) ... ok\n",
            "\n",
            "----------------------------------------------------------------------\n",
            "Ran 4 tests in 0.006s\n",
            "\n",
            "OK\n"
          ],
          "name": "stderr"
        },
        {
          "output_type": "execute_result",
          "data": {
            "text/plain": [
              "<unittest.main.TestProgram at 0x7f7c13337e48>"
            ]
          },
          "metadata": {
            "tags": []
          },
          "execution_count": 33
        }
      ]
    },
    {
      "cell_type": "markdown",
      "metadata": {
        "id": "ibHq0erWFA5h",
        "colab_type": "text"
      },
      "source": [
        "# RESULTADO: \n",
        "\n",
        "## TODAS AS CLASSES DE TESTES FORAM VALIDADAS!\n",
        "### 1A CLASSE : SALARIO MENOR OU IGUAL 1000, NÃO CALCULAR IR \n",
        "### 2A CLASSE : SALÁRIO MAIOR QUE 1000 E MENOR OU IGUAL A 2000\n",
        "### 3A CLASSE : SALÁRIO MAIOR QUE 2000 E MENOR OU IGUAL A 3000\n",
        "### 4A CLASSE : SALÁRIO MAIOR QUE 3000\n",
        "\n",
        "#### CONSOLE OUTPUT:\n",
        "\n",
        "\n",
        "```\n",
        "test_1000d01_2000_calculaIR (__main__.test_calculaIR) ... ok\n",
        "test_2000d01_3000_calculaIR (__main__.test_calculaIR) ... ok\n",
        "test_3000d01_calculaIR (__main__.test_calculaIR) ... ok\n",
        "test_not_calculaIR (__main__.test_calculaIR) ... ok\n",
        "\n",
        "----------------------------------------------------------------------\n",
        "Ran 4 tests in 0.006s\n",
        "\n",
        "OK\n",
        "<unittest.main.TestProgram at 0x7f7c13337e48>\n",
        "```"
      ]
    }
  ]
}